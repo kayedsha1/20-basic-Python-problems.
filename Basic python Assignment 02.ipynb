{
 "cells": [
  {
   "cell_type": "markdown",
   "id": "1cb05cef",
   "metadata": {},
   "source": [
    "1. Write a program that swaps the values of two variables.\n"
   ]
  },
  {
   "cell_type": "code",
   "execution_count": 20,
   "id": "8db7c245",
   "metadata": {},
   "outputs": [],
   "source": [
    "var1 = 5  #assign 1st variable \n",
    "var2 = 8  #assign 2nd Variable\n",
    "var1, var2 = var2, var1 #now swaps the value by using var1=var2 and var2=var1"
   ]
  },
  {
   "cell_type": "code",
   "execution_count": 21,
   "id": "e64005f4",
   "metadata": {},
   "outputs": [
    {
     "name": "stdout",
     "output_type": "stream",
     "text": [
      "The value of var1 8\n",
      "The value of var2 5\n"
     ]
    }
   ],
   "source": [
    "print(\"The value of var1\",var1) # the print the valuse of 1st variable \n",
    "print(\"The value of var2\",var2) # the print the valuse of 2nd variable "
   ]
  },
  {
   "cell_type": "markdown",
   "id": "bdb4ce09",
   "metadata": {},
   "source": [
    "2. Write a program that calculates the area of a rectangle given its length and width.\n"
   ]
  },
  {
   "cell_type": "code",
   "execution_count": 13,
   "id": "beb1acb4",
   "metadata": {},
   "outputs": [
    {
     "data": {
      "text/plain": [
       "15"
      ]
     },
     "execution_count": 13,
     "metadata": {},
     "output_type": "execute_result"
    }
   ],
   "source": [
    "def rectangle(length, width):    # define a function with a name rectangle and passing two argument length and with\n",
    "    area = length*width          # calculation the area by multiplying length and width\n",
    "    return area                  # return the value of area\n",
    "rectangle(5,3)                   # the value is passing inside the function to calculating area"
   ]
  },
  {
   "cell_type": "markdown",
   "id": "983d42e7",
   "metadata": {},
   "source": [
    "3. Write a program that converts temperature from Fahrenheit to Celsius.\n"
   ]
  },
  {
   "cell_type": "code",
   "execution_count": 14,
   "id": "297dd171",
   "metadata": {},
   "outputs": [
    {
     "data": {
      "text/plain": [
       "26.666666666666668"
      ]
     },
     "execution_count": 14,
     "metadata": {},
     "output_type": "execute_result"
    }
   ],
   "source": [
    "def converttemp(fahrenheit):       # define a function convert temperature and passing a argument Fahrenheit\n",
    "    celsius = 5/9*(fahrenheit-32)   \n",
    "    return celsius\n",
    "converttemp(80)"
   ]
  },
  {
   "cell_type": "code",
   "execution_count": null,
   "id": "7116719e",
   "metadata": {},
   "outputs": [],
   "source": []
  },
  {
   "cell_type": "markdown",
   "id": "e846cca7",
   "metadata": {},
   "source": [
    "4. Write a program that calculates the volume of a sphere given its radius.\n"
   ]
  },
  {
   "cell_type": "code",
   "execution_count": 15,
   "id": "06e4836a",
   "metadata": {},
   "outputs": [
    {
     "data": {
      "text/plain": [
       "104.71999999999998"
      ]
     },
     "execution_count": 15,
     "metadata": {},
     "output_type": "execute_result"
    }
   ],
   "source": [
    "def sphere(radius):\n",
    "    volume = 4/3*(3.1416*radius**2)\n",
    "    return volume\n",
    "sphere(5)"
   ]
  },
  {
   "cell_type": "code",
   "execution_count": null,
   "id": "7e9693e2",
   "metadata": {},
   "outputs": [],
   "source": []
  },
  {
   "cell_type": "markdown",
   "id": "0d8a431e",
   "metadata": {},
   "source": [
    "5. Write a program that finds the average of three numbers."
   ]
  },
  {
   "cell_type": "code",
   "execution_count": 16,
   "id": "920e2b10",
   "metadata": {},
   "outputs": [
    {
     "data": {
      "text/plain": [
       "4.0"
      ]
     },
     "execution_count": 16,
     "metadata": {},
     "output_type": "execute_result"
    }
   ],
   "source": [
    "def average(x,y,z):\n",
    "    avg =  (x+y+z)/3\n",
    "    return avg\n",
    "average(2,4,6)"
   ]
  },
  {
   "cell_type": "code",
   "execution_count": null,
   "id": "dbcff60a",
   "metadata": {},
   "outputs": [],
   "source": []
  },
  {
   "cell_type": "markdown",
   "id": "0e713ee5",
   "metadata": {},
   "source": [
    "6. Write a program that determines if a number is even or odd."
   ]
  },
  {
   "cell_type": "code",
   "execution_count": 20,
   "id": "af39fef8",
   "metadata": {},
   "outputs": [
    {
     "name": "stdout",
     "output_type": "stream",
     "text": [
      "The number 13 is odd\n"
     ]
    }
   ],
   "source": [
    "x = 13\n",
    "\n",
    "if x%2 == 0:\n",
    "    print(\"The number\" ,x,\"is even\")\n",
    "else:\n",
    "    print(\"The number\" ,x, \"is odd\")\n",
    "    "
   ]
  },
  {
   "cell_type": "code",
   "execution_count": null,
   "id": "5d56c375",
   "metadata": {},
   "outputs": [],
   "source": []
  },
  {
   "cell_type": "markdown",
   "id": "dd2b0d25",
   "metadata": {},
   "source": [
    "7.Write a program that finds the maximum of three numbers."
   ]
  },
  {
   "cell_type": "code",
   "execution_count": 18,
   "id": "ac0e5634",
   "metadata": {},
   "outputs": [
    {
     "name": "stdout",
     "output_type": "stream",
     "text": [
      "11 is grater than\n"
     ]
    }
   ],
   "source": [
    "x,y,z = 1,7,11\n",
    "\n",
    "if x>y:\n",
    "    print(x,\"is grater than\")\n",
    "elif y>z:\n",
    "    print(y,\"is grater than\")\n",
    "else:\n",
    "    print(z,\"is grater than\")\n"
   ]
  },
  {
   "cell_type": "code",
   "execution_count": null,
   "id": "8d816adb",
   "metadata": {},
   "outputs": [],
   "source": []
  },
  {
   "cell_type": "markdown",
   "id": "b10320f9",
   "metadata": {},
   "source": [
    "8.Write a program that determines if a year is a leap year or not."
   ]
  },
  {
   "cell_type": "code",
   "execution_count": 19,
   "id": "daa9fd51",
   "metadata": {},
   "outputs": [
    {
     "name": "stdout",
     "output_type": "stream",
     "text": [
      "2001 this year is not a leap year\n"
     ]
    }
   ],
   "source": [
    "year = 2001\n",
    "\n",
    "if year % 400 == 0 and year % 100 == 0:\n",
    "    print(year, \"this year is a leap year\")\n",
    "else:\n",
    "    print(year, \"this year is not a leap year\")\n",
    "    "
   ]
  },
  {
   "cell_type": "code",
   "execution_count": null,
   "id": "ce9b371d",
   "metadata": {},
   "outputs": [],
   "source": []
  },
  {
   "cell_type": "markdown",
   "id": "610eb17b",
   "metadata": {},
   "source": [
    "9. Write a program that determines if a number is positive, negative, or zero."
   ]
  },
  {
   "cell_type": "code",
   "execution_count": 36,
   "id": "5a0081f6",
   "metadata": {},
   "outputs": [
    {
     "name": "stdout",
     "output_type": "stream",
     "text": [
      "1 is a positive number\n"
     ]
    }
   ],
   "source": [
    "x = 1\n",
    "\n",
    "if x > 0:\n",
    "    print(x, \"is a positive number\")\n",
    "elif x < 0:\n",
    "    print(x, \"is a negative number\")\n",
    "else:\n",
    "    print(x, \"is a Equal to Zero\")\n"
   ]
  },
  {
   "cell_type": "code",
   "execution_count": null,
   "id": "fc2e803d",
   "metadata": {},
   "outputs": [],
   "source": []
  },
  {
   "cell_type": "markdown",
   "id": "07f71a38",
   "metadata": {},
   "source": [
    "10. Write a program that calculates the grade based on a given percentage."
   ]
  },
  {
   "cell_type": "code",
   "execution_count": 14,
   "id": "486d24b7",
   "metadata": {},
   "outputs": [
    {
     "name": "stdout",
     "output_type": "stream",
     "text": [
      "3\n",
      "Enter Number of Subjects:  3\n",
      "56\n",
      "76\n",
      "67\n",
      "Your Grade is A-\n"
     ]
    }
   ],
   "source": [
    "mark = []    # define a empty variable\n",
    "total = 0    # \n",
    "sub = int(input())\n",
    "print(\"Enter Number of Subjects: \",sub)\n",
    "\n",
    "for i in range(sub):\n",
    "    mark.append(input())\n",
    "\n",
    "for i in range(sub):\n",
    "    total = total + int(mark[i])\n",
    "avg = total/sub\n",
    "\n",
    "if avg>=80 and avg<=100:\n",
    "    print(\"Your Grade is A+\")\n",
    "elif avg>=70 and avg<=79:\n",
    "    print(\"Your Grade is A\")\n",
    "elif avg>=60 and avg<=69:\n",
    "    print(\"Your Grade is A-\")\n",
    "elif avg>=50 and avg<=59:\n",
    "    print(\"Your Grade is B\")\n",
    "elif avg>=40 and avg<=49:\n",
    "    print(\"Your Grade is C\")\n",
    "elif avg>=33 and avg<39:\n",
    "    print(\"Your Grade is D\")\n",
    "elif avg>=0 and avg<=32:\n",
    "    print(\"Your Grade is F\")\n",
    "else:\n",
    "    print(\"Invalid Input!\")"
   ]
  },
  {
   "cell_type": "code",
   "execution_count": null,
   "id": "b8620e03",
   "metadata": {},
   "outputs": [],
   "source": []
  },
  {
   "cell_type": "markdown",
   "id": "5abf8a2c",
   "metadata": {},
   "source": [
    "11. Write a program that prints the first `n` natural numbers."
   ]
  },
  {
   "cell_type": "code",
   "execution_count": 5,
   "id": "e88989ec",
   "metadata": {},
   "outputs": [
    {
     "name": "stdout",
     "output_type": "stream",
     "text": [
      "Please Enter any Number: 13\n",
      "The List of Natural Numbers from 1 to 13 are\n",
      "1  2  3  4  5  6  7  8  9  10  11  12  13  "
     ]
    }
   ],
   "source": [
    "num = int(input(\"Please Enter any Number: \"))\n",
    "\n",
    "print(\"The List of Natural Numbers from 1 to {0} are\".format(num)) \n",
    "\n",
    "for i in range(1, num+ 1):\n",
    "    print (i, end = '  ')\n",
    "    "
   ]
  },
  {
   "cell_type": "markdown",
   "id": "7dfa256e",
   "metadata": {},
   "source": [
    "\n",
    "12. Write a program that calculates the factorial of a number."
   ]
  },
  {
   "cell_type": "code",
   "execution_count": 17,
   "id": "d68bf196",
   "metadata": {},
   "outputs": [
    {
     "name": "stdout",
     "output_type": "stream",
     "text": [
      "Enter a number: 4\n",
      "The factorial of 4 is 24\n"
     ]
    }
   ],
   "source": [
    "num = int(input(\"Enter a number: \"))\n",
    "\n",
    "factorial = 1\n",
    "\n",
    "# check if the number is negative, positive or zero\n",
    "if num < 0:\n",
    "   print(\"Sorry, factorial does not exist for negative numbers\")\n",
    "elif num == 0:\n",
    "   print(\"The factorial of 0 is 1\")\n",
    "else:\n",
    "   for i in range(1,num + 1):\n",
    "       factorial = factorial*i\n",
    "   print(\"The factorial of\",num,\"is\",factorial)"
   ]
  },
  {
   "cell_type": "markdown",
   "id": "4862b756",
   "metadata": {},
   "source": [
    "13. Write a program that generates a Fibonacci sequence of length `n`.\n"
   ]
  },
  {
   "cell_type": "code",
   "execution_count": 13,
   "id": "bdcace4a",
   "metadata": {},
   "outputs": [
    {
     "name": "stdout",
     "output_type": "stream",
     "text": [
      "Fibonacci sequence of length 10: [0, 1, 1, 2, 3, 5, 8, 13, 21, 34]\n"
     ]
    }
   ],
   "source": [
    "def fibonacci(n):\n",
    "    # Initialize the first two numbers in the sequence\n",
    "    fib_seq = [0, 1]\n",
    "\n",
    "    # Generate the remaining numbers in the sequence\n",
    "    for i in range(2, n):\n",
    "        next_number = fib_seq[-1] + fib_seq[-2]\n",
    "        fib_seq.append(next_number)\n",
    "\n",
    "    return fib_seq\n",
    "\n",
    "# Set the desired length of the Fibonacci sequence\n",
    "n = 10\n",
    "\n",
    "# Generate the Fibonacci sequence\n",
    "fibonacci_seq = fibonacci(n)\n",
    "\n",
    "# Print the sequence\n",
    "print(f\"Fibonacci sequence of length {n}: {fibonacci_seq}\")"
   ]
  },
  {
   "cell_type": "code",
   "execution_count": null,
   "id": "5cf2e6f0",
   "metadata": {},
   "outputs": [],
   "source": []
  },
  {
   "cell_type": "markdown",
   "id": "f4c9212b",
   "metadata": {},
   "source": [
    "\n",
    "14. Write a program that checks if a given number is prime or not."
   ]
  },
  {
   "cell_type": "code",
   "execution_count": null,
   "id": "05557ff0",
   "metadata": {},
   "outputs": [],
   "source": [
    "# Program to check if a number is prime or not\n",
    "\n",
    "num = 29\n",
    "\n",
    "# To take input from the user\n",
    "#num = int(input(\"Enter a number: \"))\n",
    "\n",
    "# define a flag variable\n",
    "flag = False\n",
    "\n",
    "if num == 1:\n",
    "    print(num, \"is not a prime number\")\n",
    "elif num > 1:\n",
    "    # check for factors\n",
    "    for i in range(2, num):\n",
    "        if (num % i) == 0:\n",
    "            # if factor is found, set flag to True\n",
    "            flag = True\n",
    "            # break out of loop\n",
    "            break\n",
    "\n",
    "    # check if flag is True\n",
    "    if flag:\n",
    "        print(num, \"is not a prime number\")\n",
    "    else:\n",
    "        print(num, \"is a prime number\")"
   ]
  },
  {
   "cell_type": "markdown",
   "id": "7bbe53dc",
   "metadata": {},
   "source": [
    "\n",
    "15. Write a program that prints the multiplication table of a given number."
   ]
  },
  {
   "cell_type": "code",
   "execution_count": 10,
   "id": "62c14b79",
   "metadata": {},
   "outputs": [
    {
     "name": "stdout",
     "output_type": "stream",
     "text": [
      "14\n",
      "14 x 1 = 14\n",
      "14 x 2 = 28\n",
      "14 x 3 = 42\n",
      "14 x 4 = 56\n",
      "14 x 5 = 70\n",
      "14 x 6 = 84\n",
      "14 x 7 = 98\n",
      "14 x 8 = 112\n",
      "14 x 9 = 126\n",
      "14 x 10 = 140\n"
     ]
    }
   ],
   "source": [
    "num = int(input())\n",
    "for i in range(1, 11):\n",
    "   print(num, 'x', i, '=', num*i)"
   ]
  },
  {
   "cell_type": "code",
   "execution_count": null,
   "id": "ad57fe4c",
   "metadata": {},
   "outputs": [],
   "source": []
  },
  {
   "cell_type": "markdown",
   "id": "8e9140d6",
   "metadata": {},
   "source": [
    "16. Write a program that finds the sum of all even numbers between 1 and `n`."
   ]
  },
  {
   "cell_type": "code",
   "execution_count": 9,
   "id": "a36c84dc",
   "metadata": {},
   "outputs": [
    {
     "name": "stdout",
     "output_type": "stream",
     "text": [
      "The sum of even numbers between 1 and 10 is **30**.\n"
     ]
    }
   ],
   "source": [
    "def even_numbers(n):\n",
    "    \n",
    "    total_sum = 0\n",
    "\n",
    "    for i in range(1, n + 1):\n",
    "        # Check if the number is even\n",
    "        if i % 2 == 0:\n",
    "            total_sum += i\n",
    "    return total_sum\n",
    "\n",
    "# Example: Find the sum of even numbers between 1 and 10\n",
    "n = 10\n",
    "result = even_numbers(n)\n",
    "print(f\"The sum of even numbers between 1 and {n} is **{result}**.\")"
   ]
  },
  {
   "cell_type": "markdown",
   "id": "7e0067e3",
   "metadata": {},
   "source": [
    "17. Write a program that reverses a given number."
   ]
  },
  {
   "cell_type": "code",
   "execution_count": 22,
   "id": "5f4432d0",
   "metadata": {},
   "outputs": [
    {
     "name": "stdout",
     "output_type": "stream",
     "text": [
      "Reversed Number: 134\n"
     ]
    }
   ],
   "source": [
    "num = 431\n",
    "reversed_num = 0\n",
    "\n",
    "while num != 0:\n",
    "    digit = num % 10\n",
    "    reversed_num = reversed_num * 10 + digit\n",
    "    num //= 10\n",
    "\n",
    "print(\"Reversed Number: \" + str(reversed_num))"
   ]
  },
  {
   "cell_type": "markdown",
   "id": "657b5c95",
   "metadata": {},
   "source": [
    "18. Write a program that checks if a given string, is a palindrome."
   ]
  },
  {
   "cell_type": "code",
   "execution_count": 7,
   "id": "ef3dbc62",
   "metadata": {},
   "outputs": [
    {
     "name": "stdout",
     "output_type": "stream",
     "text": [
      "No\n"
     ]
    }
   ],
   "source": [
    "def isPalindrome(pld):\n",
    "    return pld == pld[::-1]\n",
    " \n",
    "pld = \"check\"\n",
    "result = isPalindrome(pld)\n",
    " \n",
    "if result:\n",
    "    print(\"Yes\")\n",
    "else:\n",
    "    print(\"No\")"
   ]
  },
  {
   "cell_type": "code",
   "execution_count": null,
   "id": "51c2b4af",
   "metadata": {},
   "outputs": [],
   "source": []
  },
  {
   "cell_type": "markdown",
   "id": "00f52669",
   "metadata": {},
   "source": [
    "19. Write a program that generates a random number and allows the user to guess it.\n"
   ]
  },
  {
   "cell_type": "code",
   "execution_count": null,
   "id": "b91a2ab5",
   "metadata": {},
   "outputs": [],
   "source": [
    "import random\n",
    "n = random.randint(1, 99)\n",
    "guess = int(input(\"Enter an integer from 1 to 99: \"))\n",
    "while True:\n",
    "    if guess < n:\n",
    "        print (\"guess is low\")\n",
    "        guess = int(input(\"Enter an integer from 1 to 99: \"))\n",
    "    elif guess > n:\n",
    "        print (\"guess is high\")\n",
    "        guess = int(input(\"Enter an integer from 1 to 99: \"))\n",
    "    else:\n",
    "        print (\"you guessed it right! Bye!\")\n",
    "        break"
   ]
  },
  {
   "cell_type": "markdown",
   "id": "5bf9c663",
   "metadata": {},
   "source": [
    "20. Write a program that finds the greatest common divisor (GCD) of two numbers."
   ]
  },
  {
   "cell_type": "code",
   "execution_count": 2,
   "id": "63bb9e4b",
   "metadata": {},
   "outputs": [
    {
     "name": "stdout",
     "output_type": "stream",
     "text": [
      "40\n",
      "96\n",
      "The gcd of num1 and num2 is : 8\n"
     ]
    }
   ],
   "source": [
    "import math\n",
    "\n",
    "num1 =int(input())\n",
    "num2 =int(input())\n",
    "print (\"The gcd of num1 and num2 is : \",end=\"\")\n",
    "print (math.gcd(num1,num2))"
   ]
  },
  {
   "cell_type": "markdown",
   "id": "cf408504",
   "metadata": {},
   "source": [
    " 21. Variable Swap: Write a Python program to swap the values of two variables without using a temporary variable."
   ]
  },
  {
   "cell_type": "code",
   "execution_count": 4,
   "id": "0389d298",
   "metadata": {},
   "outputs": [
    {
     "name": "stdout",
     "output_type": "stream",
     "text": [
      "['10', '11', '12']\n"
     ]
    }
   ],
   "source": [
    "original_list = [10, 11, 12]\n",
    "int_list = []\n",
    "for item in original_list:\n",
    "    int_list.append(str(item))\n",
    "print(int_list)"
   ]
  },
  {
   "cell_type": "markdown",
   "id": "f8575f18",
   "metadata": {},
   "source": [
    "22. Data Type Checker: Write a Python function that takes a variable as input and returns the data type of the variable as a string (e.g., “int”, “float”, “str”, “list”, etc.)."
   ]
  },
  {
   "cell_type": "code",
   "execution_count": null,
   "id": "322595d9",
   "metadata": {},
   "outputs": [],
   "source": []
  }
 ],
 "metadata": {
  "kernelspec": {
   "display_name": "Python 3 (ipykernel)",
   "language": "python",
   "name": "python3"
  },
  "language_info": {
   "codemirror_mode": {
    "name": "ipython",
    "version": 3
   },
   "file_extension": ".py",
   "mimetype": "text/x-python",
   "name": "python",
   "nbconvert_exporter": "python",
   "pygments_lexer": "ipython3",
   "version": "3.11.3"
  }
 },
 "nbformat": 4,
 "nbformat_minor": 5
}
